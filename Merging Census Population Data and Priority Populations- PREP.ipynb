{
 "cells": [
  {
   "cell_type": "markdown",
   "id": "cc3b1f91-2456-4dd4-98e4-e3e4f0a66b30",
   "metadata": {},
   "source": [
    "# Merging Subcounty-Level Data on PREP Services with Subcounty Population Data from the Uganda Census"
   ]
  },
  {
   "cell_type": "code",
   "execution_count": 1,
   "id": "c66367a4-f2b5-49f6-afb4-a71449a9fb88",
   "metadata": {},
   "outputs": [],
   "source": [
    "import pandas as pd"
   ]
  },
  {
   "cell_type": "code",
   "execution_count": 2,
   "id": "1cd421c7-55a2-41a7-a112-9dfe4edefa88",
   "metadata": {},
   "outputs": [],
   "source": [
    "pop = pd.read_csv('subcounty_population_adjusted.csv')"
   ]
  },
  {
   "cell_type": "code",
   "execution_count": 3,
   "id": "52400baa-8d34-4a1d-9563-8d1bfc236951",
   "metadata": {},
   "outputs": [
    {
     "data": {
      "text/html": [
       "<div>\n",
       "<style scoped>\n",
       "    .dataframe tbody tr th:only-of-type {\n",
       "        vertical-align: middle;\n",
       "    }\n",
       "\n",
       "    .dataframe tbody tr th {\n",
       "        vertical-align: top;\n",
       "    }\n",
       "\n",
       "    .dataframe thead th {\n",
       "        text-align: right;\n",
       "    }\n",
       "</style>\n",
       "<table border=\"1\" class=\"dataframe\">\n",
       "  <thead>\n",
       "    <tr style=\"text-align: right;\">\n",
       "      <th></th>\n",
       "      <th>PIRS District</th>\n",
       "      <th>PIRS Subcounty</th>\n",
       "      <th>subcounty_pop_adjusted</th>\n",
       "    </tr>\n",
       "  </thead>\n",
       "  <tbody>\n",
       "    <tr>\n",
       "      <th>0</th>\n",
       "      <td>Katakwi District</td>\n",
       "      <td>Usuk Subcounty</td>\n",
       "      <td>21860.72</td>\n",
       "    </tr>\n",
       "    <tr>\n",
       "      <th>1</th>\n",
       "      <td>Serere District</td>\n",
       "      <td>Labori Subcounty</td>\n",
       "      <td>20473.31</td>\n",
       "    </tr>\n",
       "    <tr>\n",
       "      <th>2</th>\n",
       "      <td>Amuria District</td>\n",
       "      <td>Abarilela Subcounty</td>\n",
       "      <td>25018.70</td>\n",
       "    </tr>\n",
       "    <tr>\n",
       "      <th>3</th>\n",
       "      <td>Amuria District</td>\n",
       "      <td>Orungo Subcounty</td>\n",
       "      <td>15200.74</td>\n",
       "    </tr>\n",
       "    <tr>\n",
       "      <th>4</th>\n",
       "      <td>Kampala District</td>\n",
       "      <td>Central Division</td>\n",
       "      <td>154846.08</td>\n",
       "    </tr>\n",
       "  </tbody>\n",
       "</table>\n",
       "</div>"
      ],
      "text/plain": [
       "      PIRS District       PIRS Subcounty  subcounty_pop_adjusted\n",
       "0  Katakwi District       Usuk Subcounty                21860.72\n",
       "1   Serere District     Labori Subcounty                20473.31\n",
       "2   Amuria District  Abarilela Subcounty                25018.70\n",
       "3   Amuria District     Orungo Subcounty                15200.74\n",
       "4  Kampala District     Central Division               154846.08"
      ]
     },
     "execution_count": 3,
     "metadata": {},
     "output_type": "execute_result"
    }
   ],
   "source": [
    "pop.head()"
   ]
  },
  {
   "cell_type": "code",
   "execution_count": 4,
   "id": "fd5fbacb-54f6-491d-856e-0cecd8ad492b",
   "metadata": {},
   "outputs": [],
   "source": [
    "pop = pop.rename(columns={'PIRS District':'District','PIRS Subcounty':'Subcounty'})"
   ]
  },
  {
   "cell_type": "code",
   "execution_count": 5,
   "id": "2cc8dcff-d5a3-4767-92b4-fa1af4116da1",
   "metadata": {},
   "outputs": [
    {
     "data": {
      "text/html": [
       "<div>\n",
       "<style scoped>\n",
       "    .dataframe tbody tr th:only-of-type {\n",
       "        vertical-align: middle;\n",
       "    }\n",
       "\n",
       "    .dataframe tbody tr th {\n",
       "        vertical-align: top;\n",
       "    }\n",
       "\n",
       "    .dataframe thead th {\n",
       "        text-align: right;\n",
       "    }\n",
       "</style>\n",
       "<table border=\"1\" class=\"dataframe\">\n",
       "  <thead>\n",
       "    <tr style=\"text-align: right;\">\n",
       "      <th></th>\n",
       "      <th>District</th>\n",
       "      <th>Subcounty</th>\n",
       "      <th>subcounty_pop_adjusted</th>\n",
       "    </tr>\n",
       "  </thead>\n",
       "  <tbody>\n",
       "    <tr>\n",
       "      <th>0</th>\n",
       "      <td>Katakwi District</td>\n",
       "      <td>Usuk Subcounty</td>\n",
       "      <td>21860.72</td>\n",
       "    </tr>\n",
       "    <tr>\n",
       "      <th>1</th>\n",
       "      <td>Serere District</td>\n",
       "      <td>Labori Subcounty</td>\n",
       "      <td>20473.31</td>\n",
       "    </tr>\n",
       "    <tr>\n",
       "      <th>2</th>\n",
       "      <td>Amuria District</td>\n",
       "      <td>Abarilela Subcounty</td>\n",
       "      <td>25018.70</td>\n",
       "    </tr>\n",
       "    <tr>\n",
       "      <th>3</th>\n",
       "      <td>Amuria District</td>\n",
       "      <td>Orungo Subcounty</td>\n",
       "      <td>15200.74</td>\n",
       "    </tr>\n",
       "    <tr>\n",
       "      <th>4</th>\n",
       "      <td>Kampala District</td>\n",
       "      <td>Central Division</td>\n",
       "      <td>154846.08</td>\n",
       "    </tr>\n",
       "  </tbody>\n",
       "</table>\n",
       "</div>"
      ],
      "text/plain": [
       "           District            Subcounty  subcounty_pop_adjusted\n",
       "0  Katakwi District       Usuk Subcounty                21860.72\n",
       "1   Serere District     Labori Subcounty                20473.31\n",
       "2   Amuria District  Abarilela Subcounty                25018.70\n",
       "3   Amuria District     Orungo Subcounty                15200.74\n",
       "4  Kampala District     Central Division               154846.08"
      ]
     },
     "execution_count": 5,
     "metadata": {},
     "output_type": "execute_result"
    }
   ],
   "source": [
    "pop.head()"
   ]
  },
  {
   "cell_type": "code",
   "execution_count": 6,
   "id": "63e644b2-e372-4f7a-9dc0-66092c36c5f4",
   "metadata": {},
   "outputs": [
    {
     "data": {
      "text/plain": [
       "District                   object\n",
       "Subcounty                  object\n",
       "subcounty_pop_adjusted    float64\n",
       "dtype: object"
      ]
     },
     "execution_count": 6,
     "metadata": {},
     "output_type": "execute_result"
    }
   ],
   "source": [
    "pop.dtypes"
   ]
  },
  {
   "cell_type": "code",
   "execution_count": 7,
   "id": "ae28e77c-5102-44bd-8fd3-95853eeb972f",
   "metadata": {},
   "outputs": [
    {
     "data": {
      "text/plain": [
       "(2179, 3)"
      ]
     },
     "execution_count": 7,
     "metadata": {},
     "output_type": "execute_result"
    }
   ],
   "source": [
    "pop.shape"
   ]
  },
  {
   "cell_type": "code",
   "execution_count": 8,
   "id": "d0480747-b6d1-4900-a4c7-fa0f61802505",
   "metadata": {},
   "outputs": [
    {
     "name": "stdout",
     "output_type": "stream",
     "text": [
      "District           Subcounty            \n",
      "Adjumani District  Adjumani Town Council    2\n",
      "                   Adropi Subcounty         2\n",
      "                   Dzaipi Subcounty         4\n",
      "                   Pakele Subcounty         3\n",
      "                   Ukusijoni Subcounty      2\n",
      "                                           ..\n",
      "Yumbe District     Ariwa Subcounty          2\n",
      "                   Kochi Subcounty          2\n",
      "                   Kululu Subcounty         4\n",
      "                   Odravu West Subcounty    3\n",
      "                   Romogi Subcounty         4\n",
      "Length: 394, dtype: int64\n"
     ]
    }
   ],
   "source": [
    "dup_counts = pop.groupby(['District', 'Subcounty']).size()\n",
    "print(dup_counts[dup_counts > 1])"
   ]
  },
  {
   "cell_type": "code",
   "execution_count": 9,
   "id": "4de7ea67-350a-4550-abe0-691fee9b91b2",
   "metadata": {},
   "outputs": [
    {
     "name": "stdout",
     "output_type": "stream",
     "text": [
      "               District              Subcounty  subcounty_pop_adjusted\n",
      "1246  Adjumani District  Adjumani Town Council                36495.99\n",
      "1247  Adjumani District  Adjumani Town Council                36495.99\n",
      "1248  Adjumani District       Adropi Subcounty                12065.42\n",
      "1249  Adjumani District       Adropi Subcounty                12065.42\n",
      "1405  Adjumani District       Dzaipi Subcounty                44174.64\n",
      "...                 ...                    ...                     ...\n",
      "2174                NaN                    NaN                     NaN\n",
      "2175                NaN                    NaN                     NaN\n",
      "2176                NaN                    NaN                     NaN\n",
      "2177                NaN                    NaN                     NaN\n",
      "2178                NaN                    NaN                     NaN\n",
      "\n",
      "[1210 rows x 3 columns]\n"
     ]
    }
   ],
   "source": [
    "dup_rows = pop[pop.duplicated(subset=['District', 'Subcounty'], keep=False)]\n",
    "print(dup_rows.sort_values(by=['District', 'Subcounty']))"
   ]
  },
  {
   "cell_type": "code",
   "execution_count": 10,
   "id": "bb58c8de-0111-4f70-b4c1-c0ded3872574",
   "metadata": {},
   "outputs": [],
   "source": [
    "pop = pop.drop_duplicates()"
   ]
  },
  {
   "cell_type": "code",
   "execution_count": 11,
   "id": "a785ff06-2f9b-4842-ab10-c4eaac39de5b",
   "metadata": {},
   "outputs": [
    {
     "data": {
      "text/plain": [
       "(1364, 3)"
      ]
     },
     "execution_count": 11,
     "metadata": {},
     "output_type": "execute_result"
    }
   ],
   "source": [
    "pop.shape"
   ]
  },
  {
   "cell_type": "code",
   "execution_count": 12,
   "id": "809a153e-7da0-4015-a6e9-3a922e1ee869",
   "metadata": {},
   "outputs": [],
   "source": [
    "pp = pd.read_csv('uganda_prep_revised.csv')"
   ]
  },
  {
   "cell_type": "code",
   "execution_count": 13,
   "id": "12352ec9-8aa6-4768-bf37-7036fed8915b",
   "metadata": {},
   "outputs": [
    {
     "data": {
      "text/html": [
       "<div>\n",
       "<style scoped>\n",
       "    .dataframe tbody tr th:only-of-type {\n",
       "        vertical-align: middle;\n",
       "    }\n",
       "\n",
       "    .dataframe tbody tr th {\n",
       "        vertical-align: top;\n",
       "    }\n",
       "\n",
       "    .dataframe thead th {\n",
       "        text-align: right;\n",
       "    }\n",
       "</style>\n",
       "<table border=\"1\" class=\"dataframe\">\n",
       "  <thead>\n",
       "    <tr style=\"text-align: right;\">\n",
       "      <th></th>\n",
       "      <th>DHIS2 District</th>\n",
       "      <th>DHIS2 Subcounty</th>\n",
       "      <th>DHIS2 HF Name</th>\n",
       "      <th>Agency</th>\n",
       "      <th>MSM, Male</th>\n",
       "      <th>Transgender</th>\n",
       "      <th>Sex Workers</th>\n",
       "      <th>PWID</th>\n",
       "      <th>People in prisons and other enclosed settings (Incarcerated Population)</th>\n",
       "      <th>Pregnant</th>\n",
       "      <th>...</th>\n",
       "      <th>Mobile Populations (e.g., migrant workers, truck drivers)</th>\n",
       "      <th>Non-injecting drug users</th>\n",
       "      <th>Discordant Couples</th>\n",
       "      <th>usaid</th>\n",
       "      <th>cdc</th>\n",
       "      <th>dod</th>\n",
       "      <th>total_facility</th>\n",
       "      <th>total_subcounty</th>\n",
       "      <th>pct_of_subcounty_reached</th>\n",
       "      <th>pct_usaid_subcounty</th>\n",
       "    </tr>\n",
       "  </thead>\n",
       "  <tbody>\n",
       "    <tr>\n",
       "      <th>0</th>\n",
       "      <td>Adjumani District</td>\n",
       "      <td>Adjumani Town Council</td>\n",
       "      <td>Adjumani Hospital</td>\n",
       "      <td>CDC</td>\n",
       "      <td>0.0</td>\n",
       "      <td>0.0</td>\n",
       "      <td>533.0</td>\n",
       "      <td>0.0</td>\n",
       "      <td>0.0</td>\n",
       "      <td>0.0</td>\n",
       "      <td>...</td>\n",
       "      <td>226.0</td>\n",
       "      <td>1.0</td>\n",
       "      <td>22.0</td>\n",
       "      <td>0</td>\n",
       "      <td>1</td>\n",
       "      <td>0</td>\n",
       "      <td>1075.0</td>\n",
       "      <td>1094.0</td>\n",
       "      <td>0.982633</td>\n",
       "      <td>0.0</td>\n",
       "    </tr>\n",
       "    <tr>\n",
       "      <th>1</th>\n",
       "      <td>Adjumani District</td>\n",
       "      <td>Adjumani Town Council</td>\n",
       "      <td>Adjumani Mission HC III</td>\n",
       "      <td>CDC</td>\n",
       "      <td>0.0</td>\n",
       "      <td>0.0</td>\n",
       "      <td>11.0</td>\n",
       "      <td>0.0</td>\n",
       "      <td>0.0</td>\n",
       "      <td>0.0</td>\n",
       "      <td>...</td>\n",
       "      <td>2.0</td>\n",
       "      <td>0.0</td>\n",
       "      <td>0.0</td>\n",
       "      <td>0</td>\n",
       "      <td>1</td>\n",
       "      <td>0</td>\n",
       "      <td>19.0</td>\n",
       "      <td>1094.0</td>\n",
       "      <td>0.017367</td>\n",
       "      <td>0.0</td>\n",
       "    </tr>\n",
       "    <tr>\n",
       "      <th>2</th>\n",
       "      <td>Agago District</td>\n",
       "      <td>Adilang Town Council</td>\n",
       "      <td>Adilang HC III</td>\n",
       "      <td>USAID</td>\n",
       "      <td>0.0</td>\n",
       "      <td>0.0</td>\n",
       "      <td>220.0</td>\n",
       "      <td>0.0</td>\n",
       "      <td>0.0</td>\n",
       "      <td>3.0</td>\n",
       "      <td>...</td>\n",
       "      <td>12.0</td>\n",
       "      <td>0.0</td>\n",
       "      <td>17.0</td>\n",
       "      <td>1</td>\n",
       "      <td>0</td>\n",
       "      <td>0</td>\n",
       "      <td>507.0</td>\n",
       "      <td>507.0</td>\n",
       "      <td>1.000000</td>\n",
       "      <td>1.0</td>\n",
       "    </tr>\n",
       "    <tr>\n",
       "      <th>3</th>\n",
       "      <td>Agago District</td>\n",
       "      <td>Kalongo Town Council</td>\n",
       "      <td>Kalongo Ambrosoli Memorial Hospital</td>\n",
       "      <td>USAID</td>\n",
       "      <td>0.0</td>\n",
       "      <td>0.0</td>\n",
       "      <td>2.0</td>\n",
       "      <td>0.0</td>\n",
       "      <td>0.0</td>\n",
       "      <td>0.0</td>\n",
       "      <td>...</td>\n",
       "      <td>18.0</td>\n",
       "      <td>0.0</td>\n",
       "      <td>5.0</td>\n",
       "      <td>1</td>\n",
       "      <td>0</td>\n",
       "      <td>0</td>\n",
       "      <td>27.0</td>\n",
       "      <td>27.0</td>\n",
       "      <td>1.000000</td>\n",
       "      <td>1.0</td>\n",
       "    </tr>\n",
       "    <tr>\n",
       "      <th>4</th>\n",
       "      <td>Agago District</td>\n",
       "      <td>Patongo Town Council</td>\n",
       "      <td>Patongo HC IV</td>\n",
       "      <td>USAID</td>\n",
       "      <td>0.0</td>\n",
       "      <td>0.0</td>\n",
       "      <td>191.0</td>\n",
       "      <td>1.0</td>\n",
       "      <td>0.0</td>\n",
       "      <td>1.0</td>\n",
       "      <td>...</td>\n",
       "      <td>14.0</td>\n",
       "      <td>1.0</td>\n",
       "      <td>33.0</td>\n",
       "      <td>1</td>\n",
       "      <td>0</td>\n",
       "      <td>0</td>\n",
       "      <td>390.0</td>\n",
       "      <td>390.0</td>\n",
       "      <td>1.000000</td>\n",
       "      <td>1.0</td>\n",
       "    </tr>\n",
       "  </tbody>\n",
       "</table>\n",
       "<p>5 rows × 28 columns</p>\n",
       "</div>"
      ],
      "text/plain": [
       "      DHIS2 District        DHIS2 Subcounty  \\\n",
       "0  Adjumani District  Adjumani Town Council   \n",
       "1  Adjumani District  Adjumani Town Council   \n",
       "2     Agago District   Adilang Town Council   \n",
       "3     Agago District   Kalongo Town Council   \n",
       "4     Agago District   Patongo Town Council   \n",
       "\n",
       "                         DHIS2 HF Name Agency  MSM, Male  Transgender  \\\n",
       "0                    Adjumani Hospital    CDC        0.0          0.0   \n",
       "1              Adjumani Mission HC III    CDC        0.0          0.0   \n",
       "2                       Adilang HC III  USAID        0.0          0.0   \n",
       "3  Kalongo Ambrosoli Memorial Hospital  USAID        0.0          0.0   \n",
       "4                        Patongo HC IV  USAID        0.0          0.0   \n",
       "\n",
       "   Sex Workers  PWID  \\\n",
       "0        533.0   0.0   \n",
       "1         11.0   0.0   \n",
       "2        220.0   0.0   \n",
       "3          2.0   0.0   \n",
       "4        191.0   1.0   \n",
       "\n",
       "   People in prisons and other enclosed settings (Incarcerated Population)  \\\n",
       "0                                                0.0                         \n",
       "1                                                0.0                         \n",
       "2                                                0.0                         \n",
       "3                                                0.0                         \n",
       "4                                                0.0                         \n",
       "\n",
       "   Pregnant  ...  Mobile Populations (e.g., migrant workers, truck drivers)  \\\n",
       "0       0.0  ...                                              226.0           \n",
       "1       0.0  ...                                                2.0           \n",
       "2       3.0  ...                                               12.0           \n",
       "3       0.0  ...                                               18.0           \n",
       "4       1.0  ...                                               14.0           \n",
       "\n",
       "   Non-injecting drug users  Discordant Couples  usaid  cdc  dod  \\\n",
       "0                       1.0                22.0      0    1    0   \n",
       "1                       0.0                 0.0      0    1    0   \n",
       "2                       0.0                17.0      1    0    0   \n",
       "3                       0.0                 5.0      1    0    0   \n",
       "4                       1.0                33.0      1    0    0   \n",
       "\n",
       "   total_facility  total_subcounty  pct_of_subcounty_reached  \\\n",
       "0          1075.0           1094.0                  0.982633   \n",
       "1            19.0           1094.0                  0.017367   \n",
       "2           507.0            507.0                  1.000000   \n",
       "3            27.0             27.0                  1.000000   \n",
       "4           390.0            390.0                  1.000000   \n",
       "\n",
       "   pct_usaid_subcounty  \n",
       "0                  0.0  \n",
       "1                  0.0  \n",
       "2                  1.0  \n",
       "3                  1.0  \n",
       "4                  1.0  \n",
       "\n",
       "[5 rows x 28 columns]"
      ]
     },
     "execution_count": 13,
     "metadata": {},
     "output_type": "execute_result"
    }
   ],
   "source": [
    "pp.head()"
   ]
  },
  {
   "cell_type": "code",
   "execution_count": 14,
   "id": "6e475169-6a0e-4c6d-88c1-3dc7fcc5066a",
   "metadata": {},
   "outputs": [
    {
     "data": {
      "text/plain": [
       "(677, 28)"
      ]
     },
     "execution_count": 14,
     "metadata": {},
     "output_type": "execute_result"
    }
   ],
   "source": [
    "pp.shape"
   ]
  },
  {
   "cell_type": "code",
   "execution_count": 15,
   "id": "7eab64a5-173f-4a35-b0cd-d532b5950a50",
   "metadata": {},
   "outputs": [],
   "source": [
    "pp.columns = pp.columns.str.strip()"
   ]
  },
  {
   "cell_type": "code",
   "execution_count": 16,
   "id": "7cf0301c-9aaa-4102-bfaf-c4cade1273b5",
   "metadata": {},
   "outputs": [
    {
     "data": {
      "text/plain": [
       "DHIS2 District                                                                                           object\n",
       "DHIS2 Subcounty                                                                                          object\n",
       "DHIS2 HF Name                                                                                            object\n",
       "Agency                                                                                                   object\n",
       "MSM, Male                                                                                               float64\n",
       "Transgender                                                                                             float64\n",
       "Sex Workers                                                                                             float64\n",
       "PWID                                                                                                    float64\n",
       "People in prisons and other enclosed settings (Incarcerated Population)                                 float64\n",
       "Pregnant                                                                                                float64\n",
       "Breast feeding                                                                                          float64\n",
       "Health Facility                                                                                         float64\n",
       "Community                                                                                               float64\n",
       "Adolescents and young women (10-24) years                                                               float64\n",
       "Clients of sex workers                                                                                  float64\n",
       "Displaced persons (e.g., refugees)                                                                      float64\n",
       "Fishing communities                                                                                     float64\n",
       "Military and other uniformed services (including police, border guards, and security workers),Female    float64\n",
       "Mobile Populations (e.g., migrant workers, truck drivers)                                               float64\n",
       "Non-injecting drug users                                                                                float64\n",
       "Discordant Couples                                                                                      float64\n",
       "usaid                                                                                                     int64\n",
       "cdc                                                                                                       int64\n",
       "dod                                                                                                       int64\n",
       "total_facility                                                                                          float64\n",
       "total_subcounty                                                                                         float64\n",
       "pct_of_subcounty_reached                                                                                float64\n",
       "pct_usaid_subcounty                                                                                     float64\n",
       "dtype: object"
      ]
     },
     "execution_count": 16,
     "metadata": {},
     "output_type": "execute_result"
    }
   ],
   "source": [
    "pp.dtypes"
   ]
  },
  {
   "cell_type": "code",
   "execution_count": 19,
   "id": "72a8b2bc-3ba8-4af1-9487-c0d1107a2207",
   "metadata": {},
   "outputs": [],
   "source": [
    "pp['District'] = pp['DHIS2 District']"
   ]
  },
  {
   "cell_type": "code",
   "execution_count": 21,
   "id": "43d03e90-1b2b-4eba-aee8-ed6128671c6f",
   "metadata": {},
   "outputs": [],
   "source": [
    "pp['Subcounty'] = pp['DHIS2 Subcounty']"
   ]
  },
  {
   "cell_type": "code",
   "execution_count": 22,
   "id": "96bb7d60-0c62-4304-a9d3-1c7b2b37be54",
   "metadata": {},
   "outputs": [],
   "source": [
    "pp_pop = pd.merge(pp, pop, on=['District', 'Subcounty'], how='left')"
   ]
  },
  {
   "cell_type": "code",
   "execution_count": 23,
   "id": "a3c017ed-ccf0-4e40-82f5-4c04ef750bd6",
   "metadata": {
    "scrolled": true
   },
   "outputs": [
    {
     "data": {
      "text/html": [
       "<div>\n",
       "<style scoped>\n",
       "    .dataframe tbody tr th:only-of-type {\n",
       "        vertical-align: middle;\n",
       "    }\n",
       "\n",
       "    .dataframe tbody tr th {\n",
       "        vertical-align: top;\n",
       "    }\n",
       "\n",
       "    .dataframe thead th {\n",
       "        text-align: right;\n",
       "    }\n",
       "</style>\n",
       "<table border=\"1\" class=\"dataframe\">\n",
       "  <thead>\n",
       "    <tr style=\"text-align: right;\">\n",
       "      <th></th>\n",
       "      <th>DHIS2 District</th>\n",
       "      <th>DHIS2 Subcounty</th>\n",
       "      <th>DHIS2 HF Name</th>\n",
       "      <th>Agency</th>\n",
       "      <th>MSM, Male</th>\n",
       "      <th>Transgender</th>\n",
       "      <th>Sex Workers</th>\n",
       "      <th>PWID</th>\n",
       "      <th>People in prisons and other enclosed settings (Incarcerated Population)</th>\n",
       "      <th>Pregnant</th>\n",
       "      <th>...</th>\n",
       "      <th>usaid</th>\n",
       "      <th>cdc</th>\n",
       "      <th>dod</th>\n",
       "      <th>total_facility</th>\n",
       "      <th>total_subcounty</th>\n",
       "      <th>pct_of_subcounty_reached</th>\n",
       "      <th>pct_usaid_subcounty</th>\n",
       "      <th>District</th>\n",
       "      <th>Subcounty</th>\n",
       "      <th>subcounty_pop_adjusted</th>\n",
       "    </tr>\n",
       "  </thead>\n",
       "  <tbody>\n",
       "    <tr>\n",
       "      <th>0</th>\n",
       "      <td>Adjumani District</td>\n",
       "      <td>Adjumani Town Council</td>\n",
       "      <td>Adjumani Hospital</td>\n",
       "      <td>CDC</td>\n",
       "      <td>0.0</td>\n",
       "      <td>0.0</td>\n",
       "      <td>533.0</td>\n",
       "      <td>0.0</td>\n",
       "      <td>0.0</td>\n",
       "      <td>0.0</td>\n",
       "      <td>...</td>\n",
       "      <td>0</td>\n",
       "      <td>1</td>\n",
       "      <td>0</td>\n",
       "      <td>1075.0</td>\n",
       "      <td>1094.0</td>\n",
       "      <td>0.982633</td>\n",
       "      <td>0.0</td>\n",
       "      <td>Adjumani District</td>\n",
       "      <td>Adjumani Town Council</td>\n",
       "      <td>36495.99</td>\n",
       "    </tr>\n",
       "    <tr>\n",
       "      <th>1</th>\n",
       "      <td>Adjumani District</td>\n",
       "      <td>Adjumani Town Council</td>\n",
       "      <td>Adjumani Mission HC III</td>\n",
       "      <td>CDC</td>\n",
       "      <td>0.0</td>\n",
       "      <td>0.0</td>\n",
       "      <td>11.0</td>\n",
       "      <td>0.0</td>\n",
       "      <td>0.0</td>\n",
       "      <td>0.0</td>\n",
       "      <td>...</td>\n",
       "      <td>0</td>\n",
       "      <td>1</td>\n",
       "      <td>0</td>\n",
       "      <td>19.0</td>\n",
       "      <td>1094.0</td>\n",
       "      <td>0.017367</td>\n",
       "      <td>0.0</td>\n",
       "      <td>Adjumani District</td>\n",
       "      <td>Adjumani Town Council</td>\n",
       "      <td>36495.99</td>\n",
       "    </tr>\n",
       "    <tr>\n",
       "      <th>2</th>\n",
       "      <td>Agago District</td>\n",
       "      <td>Adilang Town Council</td>\n",
       "      <td>Adilang HC III</td>\n",
       "      <td>USAID</td>\n",
       "      <td>0.0</td>\n",
       "      <td>0.0</td>\n",
       "      <td>220.0</td>\n",
       "      <td>0.0</td>\n",
       "      <td>0.0</td>\n",
       "      <td>3.0</td>\n",
       "      <td>...</td>\n",
       "      <td>1</td>\n",
       "      <td>0</td>\n",
       "      <td>0</td>\n",
       "      <td>507.0</td>\n",
       "      <td>507.0</td>\n",
       "      <td>1.000000</td>\n",
       "      <td>1.0</td>\n",
       "      <td>Agago District</td>\n",
       "      <td>Adilang Town Council</td>\n",
       "      <td>NaN</td>\n",
       "    </tr>\n",
       "    <tr>\n",
       "      <th>3</th>\n",
       "      <td>Agago District</td>\n",
       "      <td>Kalongo Town Council</td>\n",
       "      <td>Kalongo Ambrosoli Memorial Hospital</td>\n",
       "      <td>USAID</td>\n",
       "      <td>0.0</td>\n",
       "      <td>0.0</td>\n",
       "      <td>2.0</td>\n",
       "      <td>0.0</td>\n",
       "      <td>0.0</td>\n",
       "      <td>0.0</td>\n",
       "      <td>...</td>\n",
       "      <td>1</td>\n",
       "      <td>0</td>\n",
       "      <td>0</td>\n",
       "      <td>27.0</td>\n",
       "      <td>27.0</td>\n",
       "      <td>1.000000</td>\n",
       "      <td>1.0</td>\n",
       "      <td>Agago District</td>\n",
       "      <td>Kalongo Town Council</td>\n",
       "      <td>20056.16</td>\n",
       "    </tr>\n",
       "    <tr>\n",
       "      <th>4</th>\n",
       "      <td>Agago District</td>\n",
       "      <td>Patongo Town Council</td>\n",
       "      <td>Patongo HC IV</td>\n",
       "      <td>USAID</td>\n",
       "      <td>0.0</td>\n",
       "      <td>0.0</td>\n",
       "      <td>191.0</td>\n",
       "      <td>1.0</td>\n",
       "      <td>0.0</td>\n",
       "      <td>1.0</td>\n",
       "      <td>...</td>\n",
       "      <td>1</td>\n",
       "      <td>0</td>\n",
       "      <td>0</td>\n",
       "      <td>390.0</td>\n",
       "      <td>390.0</td>\n",
       "      <td>1.000000</td>\n",
       "      <td>1.0</td>\n",
       "      <td>Agago District</td>\n",
       "      <td>Patongo Town Council</td>\n",
       "      <td>11873.84</td>\n",
       "    </tr>\n",
       "    <tr>\n",
       "      <th>...</th>\n",
       "      <td>...</td>\n",
       "      <td>...</td>\n",
       "      <td>...</td>\n",
       "      <td>...</td>\n",
       "      <td>...</td>\n",
       "      <td>...</td>\n",
       "      <td>...</td>\n",
       "      <td>...</td>\n",
       "      <td>...</td>\n",
       "      <td>...</td>\n",
       "      <td>...</td>\n",
       "      <td>...</td>\n",
       "      <td>...</td>\n",
       "      <td>...</td>\n",
       "      <td>...</td>\n",
       "      <td>...</td>\n",
       "      <td>...</td>\n",
       "      <td>...</td>\n",
       "      <td>...</td>\n",
       "      <td>...</td>\n",
       "      <td>...</td>\n",
       "    </tr>\n",
       "    <tr>\n",
       "      <th>672</th>\n",
       "      <td>Wakiso District</td>\n",
       "      <td>Wakiso Town Council</td>\n",
       "      <td>Wakiso HC IV</td>\n",
       "      <td>CDC</td>\n",
       "      <td>156.0</td>\n",
       "      <td>22.0</td>\n",
       "      <td>709.0</td>\n",
       "      <td>0.0</td>\n",
       "      <td>0.0</td>\n",
       "      <td>2.0</td>\n",
       "      <td>...</td>\n",
       "      <td>0</td>\n",
       "      <td>1</td>\n",
       "      <td>0</td>\n",
       "      <td>1457.0</td>\n",
       "      <td>1457.0</td>\n",
       "      <td>1.000000</td>\n",
       "      <td>0.0</td>\n",
       "      <td>Wakiso District</td>\n",
       "      <td>Wakiso Town Council</td>\n",
       "      <td>124032.60</td>\n",
       "    </tr>\n",
       "    <tr>\n",
       "      <th>673</th>\n",
       "      <td>Yumbe District</td>\n",
       "      <td>Lodonga Town Council</td>\n",
       "      <td>Lodonga HC IV</td>\n",
       "      <td>CDC</td>\n",
       "      <td>0.0</td>\n",
       "      <td>0.0</td>\n",
       "      <td>4.0</td>\n",
       "      <td>0.0</td>\n",
       "      <td>0.0</td>\n",
       "      <td>0.0</td>\n",
       "      <td>...</td>\n",
       "      <td>0</td>\n",
       "      <td>1</td>\n",
       "      <td>0</td>\n",
       "      <td>11.0</td>\n",
       "      <td>11.0</td>\n",
       "      <td>1.000000</td>\n",
       "      <td>0.0</td>\n",
       "      <td>Yumbe District</td>\n",
       "      <td>Lodonga Town Council</td>\n",
       "      <td>33578.00</td>\n",
       "    </tr>\n",
       "    <tr>\n",
       "      <th>674</th>\n",
       "      <td>Yumbe District</td>\n",
       "      <td>Yumbe Town Council</td>\n",
       "      <td>Yumbe HC IV</td>\n",
       "      <td>CDC</td>\n",
       "      <td>1.0</td>\n",
       "      <td>0.0</td>\n",
       "      <td>598.0</td>\n",
       "      <td>1.0</td>\n",
       "      <td>0.0</td>\n",
       "      <td>9.0</td>\n",
       "      <td>...</td>\n",
       "      <td>0</td>\n",
       "      <td>1</td>\n",
       "      <td>0</td>\n",
       "      <td>971.0</td>\n",
       "      <td>971.0</td>\n",
       "      <td>1.000000</td>\n",
       "      <td>0.0</td>\n",
       "      <td>Yumbe District</td>\n",
       "      <td>Yumbe Town Council</td>\n",
       "      <td>35850.18</td>\n",
       "    </tr>\n",
       "    <tr>\n",
       "      <th>675</th>\n",
       "      <td>Zombo District</td>\n",
       "      <td>Nyapea Subcounty</td>\n",
       "      <td>Nyapea Hospital</td>\n",
       "      <td>CDC</td>\n",
       "      <td>0.0</td>\n",
       "      <td>0.0</td>\n",
       "      <td>12.0</td>\n",
       "      <td>0.0</td>\n",
       "      <td>0.0</td>\n",
       "      <td>0.0</td>\n",
       "      <td>...</td>\n",
       "      <td>0</td>\n",
       "      <td>1</td>\n",
       "      <td>0</td>\n",
       "      <td>60.0</td>\n",
       "      <td>60.0</td>\n",
       "      <td>1.000000</td>\n",
       "      <td>0.0</td>\n",
       "      <td>Zombo District</td>\n",
       "      <td>Nyapea Subcounty</td>\n",
       "      <td>21824.67</td>\n",
       "    </tr>\n",
       "    <tr>\n",
       "      <th>676</th>\n",
       "      <td>Zombo District</td>\n",
       "      <td>Paidha Town Council</td>\n",
       "      <td>Paidha HC III</td>\n",
       "      <td>CDC</td>\n",
       "      <td>11.0</td>\n",
       "      <td>0.0</td>\n",
       "      <td>537.0</td>\n",
       "      <td>8.0</td>\n",
       "      <td>0.0</td>\n",
       "      <td>33.0</td>\n",
       "      <td>...</td>\n",
       "      <td>0</td>\n",
       "      <td>1</td>\n",
       "      <td>0</td>\n",
       "      <td>1221.0</td>\n",
       "      <td>1221.0</td>\n",
       "      <td>1.000000</td>\n",
       "      <td>0.0</td>\n",
       "      <td>Zombo District</td>\n",
       "      <td>Paidha Town Council</td>\n",
       "      <td>32580.96</td>\n",
       "    </tr>\n",
       "  </tbody>\n",
       "</table>\n",
       "<p>677 rows × 31 columns</p>\n",
       "</div>"
      ],
      "text/plain": [
       "        DHIS2 District        DHIS2 Subcounty  \\\n",
       "0    Adjumani District  Adjumani Town Council   \n",
       "1    Adjumani District  Adjumani Town Council   \n",
       "2       Agago District   Adilang Town Council   \n",
       "3       Agago District   Kalongo Town Council   \n",
       "4       Agago District   Patongo Town Council   \n",
       "..                 ...                    ...   \n",
       "672    Wakiso District    Wakiso Town Council   \n",
       "673     Yumbe District   Lodonga Town Council   \n",
       "674     Yumbe District     Yumbe Town Council   \n",
       "675     Zombo District       Nyapea Subcounty   \n",
       "676     Zombo District    Paidha Town Council   \n",
       "\n",
       "                           DHIS2 HF Name Agency  MSM, Male  Transgender  \\\n",
       "0                      Adjumani Hospital    CDC        0.0          0.0   \n",
       "1                Adjumani Mission HC III    CDC        0.0          0.0   \n",
       "2                         Adilang HC III  USAID        0.0          0.0   \n",
       "3    Kalongo Ambrosoli Memorial Hospital  USAID        0.0          0.0   \n",
       "4                          Patongo HC IV  USAID        0.0          0.0   \n",
       "..                                   ...    ...        ...          ...   \n",
       "672                         Wakiso HC IV    CDC      156.0         22.0   \n",
       "673                        Lodonga HC IV    CDC        0.0          0.0   \n",
       "674                          Yumbe HC IV    CDC        1.0          0.0   \n",
       "675                      Nyapea Hospital    CDC        0.0          0.0   \n",
       "676                        Paidha HC III    CDC       11.0          0.0   \n",
       "\n",
       "     Sex Workers  PWID  \\\n",
       "0          533.0   0.0   \n",
       "1           11.0   0.0   \n",
       "2          220.0   0.0   \n",
       "3            2.0   0.0   \n",
       "4          191.0   1.0   \n",
       "..           ...   ...   \n",
       "672        709.0   0.0   \n",
       "673          4.0   0.0   \n",
       "674        598.0   1.0   \n",
       "675         12.0   0.0   \n",
       "676        537.0   8.0   \n",
       "\n",
       "     People in prisons and other enclosed settings (Incarcerated Population)  \\\n",
       "0                                                  0.0                         \n",
       "1                                                  0.0                         \n",
       "2                                                  0.0                         \n",
       "3                                                  0.0                         \n",
       "4                                                  0.0                         \n",
       "..                                                 ...                         \n",
       "672                                                0.0                         \n",
       "673                                                0.0                         \n",
       "674                                                0.0                         \n",
       "675                                                0.0                         \n",
       "676                                                0.0                         \n",
       "\n",
       "     Pregnant  ...  usaid  cdc  dod  total_facility  total_subcounty  \\\n",
       "0         0.0  ...      0    1    0          1075.0           1094.0   \n",
       "1         0.0  ...      0    1    0            19.0           1094.0   \n",
       "2         3.0  ...      1    0    0           507.0            507.0   \n",
       "3         0.0  ...      1    0    0            27.0             27.0   \n",
       "4         1.0  ...      1    0    0           390.0            390.0   \n",
       "..        ...  ...    ...  ...  ...             ...              ...   \n",
       "672       2.0  ...      0    1    0          1457.0           1457.0   \n",
       "673       0.0  ...      0    1    0            11.0             11.0   \n",
       "674       9.0  ...      0    1    0           971.0            971.0   \n",
       "675       0.0  ...      0    1    0            60.0             60.0   \n",
       "676      33.0  ...      0    1    0          1221.0           1221.0   \n",
       "\n",
       "     pct_of_subcounty_reached  pct_usaid_subcounty           District  \\\n",
       "0                    0.982633                  0.0  Adjumani District   \n",
       "1                    0.017367                  0.0  Adjumani District   \n",
       "2                    1.000000                  1.0     Agago District   \n",
       "3                    1.000000                  1.0     Agago District   \n",
       "4                    1.000000                  1.0     Agago District   \n",
       "..                        ...                  ...                ...   \n",
       "672                  1.000000                  0.0    Wakiso District   \n",
       "673                  1.000000                  0.0     Yumbe District   \n",
       "674                  1.000000                  0.0     Yumbe District   \n",
       "675                  1.000000                  0.0     Zombo District   \n",
       "676                  1.000000                  0.0     Zombo District   \n",
       "\n",
       "                 Subcounty  subcounty_pop_adjusted  \n",
       "0    Adjumani Town Council                36495.99  \n",
       "1    Adjumani Town Council                36495.99  \n",
       "2     Adilang Town Council                     NaN  \n",
       "3     Kalongo Town Council                20056.16  \n",
       "4     Patongo Town Council                11873.84  \n",
       "..                     ...                     ...  \n",
       "672    Wakiso Town Council               124032.60  \n",
       "673   Lodonga Town Council                33578.00  \n",
       "674     Yumbe Town Council                35850.18  \n",
       "675       Nyapea Subcounty                21824.67  \n",
       "676    Paidha Town Council                32580.96  \n",
       "\n",
       "[677 rows x 31 columns]"
      ]
     },
     "execution_count": 23,
     "metadata": {},
     "output_type": "execute_result"
    }
   ],
   "source": [
    "pp_pop"
   ]
  },
  {
   "cell_type": "code",
   "execution_count": 13,
   "id": "49b76dac-9079-4cb5-8ee4-2ef60a6153d8",
   "metadata": {},
   "outputs": [],
   "source": [
    "#print(pp.columns.tolist())"
   ]
  },
  {
   "cell_type": "code",
   "execution_count": 24,
   "id": "db9d7963-fd28-4a9e-bb63-b27568c219e3",
   "metadata": {},
   "outputs": [
    {
     "data": {
      "text/plain": [
       "68"
      ]
     },
     "execution_count": 24,
     "metadata": {},
     "output_type": "execute_result"
    }
   ],
   "source": [
    "pp_pop.groupby('Subcounty')['subcounty_pop_adjusted'].apply(lambda x: x.isna().sum()).sum()"
   ]
  },
  {
   "cell_type": "code",
   "execution_count": 25,
   "id": "279c7554-cf2e-43a5-b56d-cf9160faaf96",
   "metadata": {},
   "outputs": [
    {
     "data": {
      "text/plain": [
       "609"
      ]
     },
     "execution_count": 25,
     "metadata": {},
     "output_type": "execute_result"
    }
   ],
   "source": [
    "pp_pop.groupby('Subcounty')['subcounty_pop_adjusted'].apply(lambda x: x.notna().sum()).sum()"
   ]
  },
  {
   "cell_type": "code",
   "execution_count": 26,
   "id": "82a2f11d-112d-4b5b-9267-be46945afaf8",
   "metadata": {},
   "outputs": [
    {
     "data": {
      "text/plain": [
       "(677, 31)"
      ]
     },
     "execution_count": 26,
     "metadata": {},
     "output_type": "execute_result"
    }
   ],
   "source": [
    "pp_pop.shape"
   ]
  },
  {
   "cell_type": "code",
   "execution_count": 27,
   "id": "faa96f67-e1ac-4708-942b-40a32ff9afe7",
   "metadata": {},
   "outputs": [
    {
     "data": {
      "text/plain": [
       "Subcounty\n",
       "Central Division               25\n",
       "Southern Division               9\n",
       "Nakawa Division                 8\n",
       "Eastern Division                7\n",
       "Northern Division               7\n",
       "                               ..\n",
       "Kitswamba Town Council          1\n",
       "Kitswamba Subcounty             1\n",
       "Kisinga Town Council            1\n",
       "Katwe Kabatoro Town Council     1\n",
       "Paidha Town Council             1\n",
       "Name: count, Length: 475, dtype: int64"
      ]
     },
     "execution_count": 27,
     "metadata": {},
     "output_type": "execute_result"
    }
   ],
   "source": [
    "pp_pop['Subcounty'].value_counts()"
   ]
  },
  {
   "cell_type": "code",
   "execution_count": 28,
   "id": "6667b2e8-2043-4568-8898-996591fa082f",
   "metadata": {},
   "outputs": [
    {
     "data": {
      "text/plain": [
       "(677, 31)"
      ]
     },
     "execution_count": 28,
     "metadata": {},
     "output_type": "execute_result"
    }
   ],
   "source": [
    "pp_pop.shape"
   ]
  },
  {
   "cell_type": "code",
   "execution_count": 29,
   "id": "7a4ed2d2-072b-48d8-bb27-e2dcc5a8b63c",
   "metadata": {},
   "outputs": [],
   "source": [
    "pp_pop.to_csv('uganda_prep_with_pop.csv', index=False)"
   ]
  },
  {
   "cell_type": "code",
   "execution_count": null,
   "id": "9023cd51-a431-427e-960f-44aab0b55125",
   "metadata": {},
   "outputs": [],
   "source": []
  }
 ],
 "metadata": {
  "kernelspec": {
   "display_name": "Python 3 (ipykernel)",
   "language": "python",
   "name": "python3"
  },
  "language_info": {
   "codemirror_mode": {
    "name": "ipython",
    "version": 3
   },
   "file_extension": ".py",
   "mimetype": "text/x-python",
   "name": "python",
   "nbconvert_exporter": "python",
   "pygments_lexer": "ipython3",
   "version": "3.12.7"
  }
 },
 "nbformat": 4,
 "nbformat_minor": 5
}
