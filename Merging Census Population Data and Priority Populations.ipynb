{
 "cells": [
  {
   "cell_type": "markdown",
   "id": "49c4b94b-dc00-49e6-aef8-e834396bfef5",
   "metadata": {},
   "source": [
    "# Merging Subcounty-Level Data on Services for Priority Populations with Subcounty Population Data from the Uganda Census"
   ]
  },
  {
   "cell_type": "code",
   "execution_count": 1,
   "id": "c66367a4-f2b5-49f6-afb4-a71449a9fb88",
   "metadata": {},
   "outputs": [],
   "source": [
    "import pandas as pd"
   ]
  },
  {
   "cell_type": "code",
   "execution_count": 2,
   "id": "1cd421c7-55a2-41a7-a112-9dfe4edefa88",
   "metadata": {},
   "outputs": [],
   "source": [
    "pop = pd.read_csv('subcounty_population_adjusted.csv')"
   ]
  },
  {
   "cell_type": "code",
   "execution_count": 3,
   "id": "52400baa-8d34-4a1d-9563-8d1bfc236951",
   "metadata": {},
   "outputs": [
    {
     "data": {
      "text/html": [
       "<div>\n",
       "<style scoped>\n",
       "    .dataframe tbody tr th:only-of-type {\n",
       "        vertical-align: middle;\n",
       "    }\n",
       "\n",
       "    .dataframe tbody tr th {\n",
       "        vertical-align: top;\n",
       "    }\n",
       "\n",
       "    .dataframe thead th {\n",
       "        text-align: right;\n",
       "    }\n",
       "</style>\n",
       "<table border=\"1\" class=\"dataframe\">\n",
       "  <thead>\n",
       "    <tr style=\"text-align: right;\">\n",
       "      <th></th>\n",
       "      <th>PIRS District</th>\n",
       "      <th>PIRS Subcounty</th>\n",
       "      <th>subcounty_pop_adjusted</th>\n",
       "    </tr>\n",
       "  </thead>\n",
       "  <tbody>\n",
       "    <tr>\n",
       "      <th>0</th>\n",
       "      <td>Katakwi District</td>\n",
       "      <td>Usuk Subcounty</td>\n",
       "      <td>21860.72</td>\n",
       "    </tr>\n",
       "    <tr>\n",
       "      <th>1</th>\n",
       "      <td>Serere District</td>\n",
       "      <td>Labori Subcounty</td>\n",
       "      <td>20473.31</td>\n",
       "    </tr>\n",
       "    <tr>\n",
       "      <th>2</th>\n",
       "      <td>Amuria District</td>\n",
       "      <td>Abarilela Subcounty</td>\n",
       "      <td>25018.70</td>\n",
       "    </tr>\n",
       "    <tr>\n",
       "      <th>3</th>\n",
       "      <td>Amuria District</td>\n",
       "      <td>Orungo Subcounty</td>\n",
       "      <td>15200.74</td>\n",
       "    </tr>\n",
       "    <tr>\n",
       "      <th>4</th>\n",
       "      <td>Kampala District</td>\n",
       "      <td>Central Division</td>\n",
       "      <td>154846.08</td>\n",
       "    </tr>\n",
       "  </tbody>\n",
       "</table>\n",
       "</div>"
      ],
      "text/plain": [
       "      PIRS District       PIRS Subcounty  subcounty_pop_adjusted\n",
       "0  Katakwi District       Usuk Subcounty                21860.72\n",
       "1   Serere District     Labori Subcounty                20473.31\n",
       "2   Amuria District  Abarilela Subcounty                25018.70\n",
       "3   Amuria District     Orungo Subcounty                15200.74\n",
       "4  Kampala District     Central Division               154846.08"
      ]
     },
     "execution_count": 3,
     "metadata": {},
     "output_type": "execute_result"
    }
   ],
   "source": [
    "pop.head()"
   ]
  },
  {
   "cell_type": "code",
   "execution_count": 4,
   "id": "fd5fbacb-54f6-491d-856e-0cecd8ad492b",
   "metadata": {},
   "outputs": [],
   "source": [
    "pop = pop.rename(columns={'PIRS District':'District','PIRS Subcounty':'Subcounty'})"
   ]
  },
  {
   "cell_type": "code",
   "execution_count": 5,
   "id": "2cc8dcff-d5a3-4767-92b4-fa1af4116da1",
   "metadata": {},
   "outputs": [
    {
     "data": {
      "text/html": [
       "<div>\n",
       "<style scoped>\n",
       "    .dataframe tbody tr th:only-of-type {\n",
       "        vertical-align: middle;\n",
       "    }\n",
       "\n",
       "    .dataframe tbody tr th {\n",
       "        vertical-align: top;\n",
       "    }\n",
       "\n",
       "    .dataframe thead th {\n",
       "        text-align: right;\n",
       "    }\n",
       "</style>\n",
       "<table border=\"1\" class=\"dataframe\">\n",
       "  <thead>\n",
       "    <tr style=\"text-align: right;\">\n",
       "      <th></th>\n",
       "      <th>District</th>\n",
       "      <th>Subcounty</th>\n",
       "      <th>subcounty_pop_adjusted</th>\n",
       "    </tr>\n",
       "  </thead>\n",
       "  <tbody>\n",
       "    <tr>\n",
       "      <th>0</th>\n",
       "      <td>Katakwi District</td>\n",
       "      <td>Usuk Subcounty</td>\n",
       "      <td>21860.72</td>\n",
       "    </tr>\n",
       "    <tr>\n",
       "      <th>1</th>\n",
       "      <td>Serere District</td>\n",
       "      <td>Labori Subcounty</td>\n",
       "      <td>20473.31</td>\n",
       "    </tr>\n",
       "    <tr>\n",
       "      <th>2</th>\n",
       "      <td>Amuria District</td>\n",
       "      <td>Abarilela Subcounty</td>\n",
       "      <td>25018.70</td>\n",
       "    </tr>\n",
       "    <tr>\n",
       "      <th>3</th>\n",
       "      <td>Amuria District</td>\n",
       "      <td>Orungo Subcounty</td>\n",
       "      <td>15200.74</td>\n",
       "    </tr>\n",
       "    <tr>\n",
       "      <th>4</th>\n",
       "      <td>Kampala District</td>\n",
       "      <td>Central Division</td>\n",
       "      <td>154846.08</td>\n",
       "    </tr>\n",
       "  </tbody>\n",
       "</table>\n",
       "</div>"
      ],
      "text/plain": [
       "           District            Subcounty  subcounty_pop_adjusted\n",
       "0  Katakwi District       Usuk Subcounty                21860.72\n",
       "1   Serere District     Labori Subcounty                20473.31\n",
       "2   Amuria District  Abarilela Subcounty                25018.70\n",
       "3   Amuria District     Orungo Subcounty                15200.74\n",
       "4  Kampala District     Central Division               154846.08"
      ]
     },
     "execution_count": 5,
     "metadata": {},
     "output_type": "execute_result"
    }
   ],
   "source": [
    "pop.head()"
   ]
  },
  {
   "cell_type": "code",
   "execution_count": 6,
   "id": "63e644b2-e372-4f7a-9dc0-66092c36c5f4",
   "metadata": {},
   "outputs": [
    {
     "data": {
      "text/plain": [
       "District                   object\n",
       "Subcounty                  object\n",
       "subcounty_pop_adjusted    float64\n",
       "dtype: object"
      ]
     },
     "execution_count": 6,
     "metadata": {},
     "output_type": "execute_result"
    }
   ],
   "source": [
    "pop.dtypes"
   ]
  },
  {
   "cell_type": "code",
   "execution_count": 21,
   "id": "ae28e77c-5102-44bd-8fd3-95853eeb972f",
   "metadata": {},
   "outputs": [
    {
     "data": {
      "text/plain": [
       "(2179, 3)"
      ]
     },
     "execution_count": 21,
     "metadata": {},
     "output_type": "execute_result"
    }
   ],
   "source": [
    "pop.shape"
   ]
  },
  {
   "cell_type": "code",
   "execution_count": 22,
   "id": "d0480747-b6d1-4900-a4c7-fa0f61802505",
   "metadata": {},
   "outputs": [
    {
     "name": "stdout",
     "output_type": "stream",
     "text": [
      "District           Subcounty            \n",
      "Adjumani District  Adjumani Town Council    2\n",
      "                   Adropi Subcounty         2\n",
      "                   Dzaipi Subcounty         4\n",
      "                   Pakele Subcounty         3\n",
      "                   Ukusijoni Subcounty      2\n",
      "                                           ..\n",
      "Yumbe District     Ariwa Subcounty          2\n",
      "                   Kochi Subcounty          2\n",
      "                   Kululu Subcounty         4\n",
      "                   Odravu West Subcounty    3\n",
      "                   Romogi Subcounty         4\n",
      "Length: 394, dtype: int64\n"
     ]
    }
   ],
   "source": [
    "dup_counts = pop.groupby(['District', 'Subcounty']).size()\n",
    "print(dup_counts[dup_counts > 1])"
   ]
  },
  {
   "cell_type": "code",
   "execution_count": 23,
   "id": "4de7ea67-350a-4550-abe0-691fee9b91b2",
   "metadata": {},
   "outputs": [
    {
     "name": "stdout",
     "output_type": "stream",
     "text": [
      "               District              Subcounty  subcounty_pop_adjusted\n",
      "1246  Adjumani District  Adjumani Town Council                36495.99\n",
      "1247  Adjumani District  Adjumani Town Council                36495.99\n",
      "1248  Adjumani District       Adropi Subcounty                12065.42\n",
      "1249  Adjumani District       Adropi Subcounty                12065.42\n",
      "1405  Adjumani District       Dzaipi Subcounty                44174.64\n",
      "...                 ...                    ...                     ...\n",
      "2174                NaN                    NaN                     NaN\n",
      "2175                NaN                    NaN                     NaN\n",
      "2176                NaN                    NaN                     NaN\n",
      "2177                NaN                    NaN                     NaN\n",
      "2178                NaN                    NaN                     NaN\n",
      "\n",
      "[1210 rows x 3 columns]\n"
     ]
    }
   ],
   "source": [
    "dup_rows = pop[pop.duplicated(subset=['District', 'Subcounty'], keep=False)]\n",
    "print(dup_rows.sort_values(by=['District', 'Subcounty']))"
   ]
  },
  {
   "cell_type": "code",
   "execution_count": 24,
   "id": "bb58c8de-0111-4f70-b4c1-c0ded3872574",
   "metadata": {},
   "outputs": [],
   "source": [
    "pop = pop.drop_duplicates()"
   ]
  },
  {
   "cell_type": "code",
   "execution_count": 25,
   "id": "a785ff06-2f9b-4842-ab10-c4eaac39de5b",
   "metadata": {},
   "outputs": [
    {
     "data": {
      "text/plain": [
       "(1364, 3)"
      ]
     },
     "execution_count": 25,
     "metadata": {},
     "output_type": "execute_result"
    }
   ],
   "source": [
    "pop.shape"
   ]
  },
  {
   "cell_type": "code",
   "execution_count": 7,
   "id": "809a153e-7da0-4015-a6e9-3a922e1ee869",
   "metadata": {},
   "outputs": [],
   "source": [
    "pp = pd.read_csv('pp_revised.csv')"
   ]
  },
  {
   "cell_type": "code",
   "execution_count": 8,
   "id": "12352ec9-8aa6-4768-bf37-7036fed8915b",
   "metadata": {},
   "outputs": [
    {
     "data": {
      "text/html": [
       "<div>\n",
       "<style scoped>\n",
       "    .dataframe tbody tr th:only-of-type {\n",
       "        vertical-align: middle;\n",
       "    }\n",
       "\n",
       "    .dataframe tbody tr th {\n",
       "        vertical-align: top;\n",
       "    }\n",
       "\n",
       "    .dataframe thead th {\n",
       "        text-align: right;\n",
       "    }\n",
       "</style>\n",
       "<table border=\"1\" class=\"dataframe\">\n",
       "  <thead>\n",
       "    <tr style=\"text-align: right;\">\n",
       "      <th></th>\n",
       "      <th>Region</th>\n",
       "      <th>District</th>\n",
       "      <th>Subcounty</th>\n",
       "      <th>Service outlet</th>\n",
       "      <th>Tracker HF ID</th>\n",
       "      <th>KP Tracker /HIBRID Mechanism name</th>\n",
       "      <th>DATIM ID</th>\n",
       "      <th>DATIM Subcounty ID</th>\n",
       "      <th>DATIM Subcounty Name</th>\n",
       "      <th>DHIS2 ID</th>\n",
       "      <th>...</th>\n",
       "      <th>summary.12_VL suppressed</th>\n",
       "      <th>summary.13_nan</th>\n",
       "      <th>PP_PREV2</th>\n",
       "      <th>subcounty_PP_PREV_total</th>\n",
       "      <th>pp_known_pos_subcounty</th>\n",
       "      <th>pct_pp_prev_pop_subcounty</th>\n",
       "      <th>pct_pp_pos_pop_subcounty</th>\n",
       "      <th>usaid</th>\n",
       "      <th>cdc</th>\n",
       "      <th>dod</th>\n",
       "    </tr>\n",
       "  </thead>\n",
       "  <tbody>\n",
       "    <tr>\n",
       "      <th>0</th>\n",
       "      <td>Lango</td>\n",
       "      <td>Oyam District</td>\n",
       "      <td>Kamdini Subcounty</td>\n",
       "      <td>Aber Hospital</td>\n",
       "      <td>cDGKAJzfkpf</td>\n",
       "      <td>0</td>\n",
       "      <td>whVRRz5wfqJ</td>\n",
       "      <td>oQatC41fkR8</td>\n",
       "      <td>Kamdini Subcounty</td>\n",
       "      <td>cDGKAJzfkpf</td>\n",
       "      <td>...</td>\n",
       "      <td>0</td>\n",
       "      <td>True</td>\n",
       "      <td>94</td>\n",
       "      <td>94</td>\n",
       "      <td>0</td>\n",
       "      <td>1.000000</td>\n",
       "      <td>NaN</td>\n",
       "      <td>1</td>\n",
       "      <td>0</td>\n",
       "      <td>0</td>\n",
       "    </tr>\n",
       "    <tr>\n",
       "      <th>1</th>\n",
       "      <td>Lango</td>\n",
       "      <td>Kole District</td>\n",
       "      <td>Aboke Subcounty</td>\n",
       "      <td>Aboke HC IV</td>\n",
       "      <td>UIhutvdIhqU</td>\n",
       "      <td>0</td>\n",
       "      <td>qdfauyzsicr</td>\n",
       "      <td>n1m5X7BigR9</td>\n",
       "      <td>Aboke Subcounty</td>\n",
       "      <td>UIhutvdIhqU</td>\n",
       "      <td>...</td>\n",
       "      <td>15</td>\n",
       "      <td>False</td>\n",
       "      <td>1254</td>\n",
       "      <td>1254</td>\n",
       "      <td>15</td>\n",
       "      <td>1.000000</td>\n",
       "      <td>1.0</td>\n",
       "      <td>1</td>\n",
       "      <td>0</td>\n",
       "      <td>0</td>\n",
       "    </tr>\n",
       "    <tr>\n",
       "      <th>2</th>\n",
       "      <td>Lango</td>\n",
       "      <td>Kwania District</td>\n",
       "      <td>Abongomola Subcounty</td>\n",
       "      <td>Abongomola HC III</td>\n",
       "      <td>xzRSc5XHzys</td>\n",
       "      <td>0</td>\n",
       "      <td>rDCHA2jHz39</td>\n",
       "      <td>Q9sUqH7HoYP</td>\n",
       "      <td>Abongomola Subcounty</td>\n",
       "      <td>xzRSc5XHzys</td>\n",
       "      <td>...</td>\n",
       "      <td>0</td>\n",
       "      <td>False</td>\n",
       "      <td>1</td>\n",
       "      <td>1</td>\n",
       "      <td>0</td>\n",
       "      <td>1.000000</td>\n",
       "      <td>NaN</td>\n",
       "      <td>1</td>\n",
       "      <td>0</td>\n",
       "      <td>0</td>\n",
       "    </tr>\n",
       "    <tr>\n",
       "      <th>3</th>\n",
       "      <td>Acholi</td>\n",
       "      <td>Agago District</td>\n",
       "      <td>Adilang Subcounty</td>\n",
       "      <td>Adilang HC III</td>\n",
       "      <td>FvewOonC8lS</td>\n",
       "      <td>0</td>\n",
       "      <td>ZeRcMv22glU</td>\n",
       "      <td>ClwHXeeXWEt</td>\n",
       "      <td>Adilang Subcounty</td>\n",
       "      <td>FvewOonC8lS</td>\n",
       "      <td>...</td>\n",
       "      <td>18</td>\n",
       "      <td>True</td>\n",
       "      <td>458</td>\n",
       "      <td>458</td>\n",
       "      <td>20</td>\n",
       "      <td>1.000000</td>\n",
       "      <td>1.0</td>\n",
       "      <td>1</td>\n",
       "      <td>0</td>\n",
       "      <td>0</td>\n",
       "    </tr>\n",
       "    <tr>\n",
       "      <th>4</th>\n",
       "      <td>West Nile</td>\n",
       "      <td>Adjumani District</td>\n",
       "      <td>Adjumani Town Council</td>\n",
       "      <td>Adjumani Hospital</td>\n",
       "      <td>hvtKTUxWNrt</td>\n",
       "      <td>0</td>\n",
       "      <td>DXy9kBbZcEQ</td>\n",
       "      <td>jM4Qy260tRg</td>\n",
       "      <td>Adjumani Town Council</td>\n",
       "      <td>hvtKTUxWNrt</td>\n",
       "      <td>...</td>\n",
       "      <td>0</td>\n",
       "      <td>False</td>\n",
       "      <td>767</td>\n",
       "      <td>885</td>\n",
       "      <td>0</td>\n",
       "      <td>0.866667</td>\n",
       "      <td>NaN</td>\n",
       "      <td>0</td>\n",
       "      <td>1</td>\n",
       "      <td>0</td>\n",
       "    </tr>\n",
       "  </tbody>\n",
       "</table>\n",
       "<p>5 rows × 150 columns</p>\n",
       "</div>"
      ],
      "text/plain": [
       "      Region          District               Subcounty     Service outlet  \\\n",
       "0      Lango      Oyam District      Kamdini Subcounty      Aber Hospital   \n",
       "1      Lango      Kole District        Aboke Subcounty        Aboke HC IV   \n",
       "2      Lango    Kwania District   Abongomola Subcounty  Abongomola HC III   \n",
       "3     Acholi     Agago District      Adilang Subcounty     Adilang HC III   \n",
       "4  West Nile  Adjumani District  Adjumani Town Council  Adjumani Hospital   \n",
       "\n",
       "  Tracker HF ID  KP Tracker /HIBRID Mechanism name     DATIM ID  \\\n",
       "0   cDGKAJzfkpf                                  0  whVRRz5wfqJ   \n",
       "1   UIhutvdIhqU                                  0  qdfauyzsicr   \n",
       "2   xzRSc5XHzys                                  0  rDCHA2jHz39   \n",
       "3   FvewOonC8lS                                  0  ZeRcMv22glU   \n",
       "4   hvtKTUxWNrt                                  0  DXy9kBbZcEQ   \n",
       "\n",
       "  DATIM Subcounty ID   DATIM Subcounty Name     DHIS2 ID  ...  \\\n",
       "0        oQatC41fkR8      Kamdini Subcounty  cDGKAJzfkpf  ...   \n",
       "1        n1m5X7BigR9        Aboke Subcounty  UIhutvdIhqU  ...   \n",
       "2        Q9sUqH7HoYP   Abongomola Subcounty  xzRSc5XHzys  ...   \n",
       "3        ClwHXeeXWEt      Adilang Subcounty  FvewOonC8lS  ...   \n",
       "4        jM4Qy260tRg  Adjumani Town Council  hvtKTUxWNrt  ...   \n",
       "\n",
       "  summary.12_VL suppressed summary.13_nan PP_PREV2 subcounty_PP_PREV_total  \\\n",
       "0                        0           True       94                      94   \n",
       "1                       15          False     1254                    1254   \n",
       "2                        0          False        1                       1   \n",
       "3                       18           True      458                     458   \n",
       "4                        0          False      767                     885   \n",
       "\n",
       "   pp_known_pos_subcounty pct_pp_prev_pop_subcounty pct_pp_pos_pop_subcounty  \\\n",
       "0                       0                  1.000000                      NaN   \n",
       "1                      15                  1.000000                      1.0   \n",
       "2                       0                  1.000000                      NaN   \n",
       "3                      20                  1.000000                      1.0   \n",
       "4                       0                  0.866667                      NaN   \n",
       "\n",
       "  usaid  cdc  dod  \n",
       "0     1    0    0  \n",
       "1     1    0    0  \n",
       "2     1    0    0  \n",
       "3     1    0    0  \n",
       "4     0    1    0  \n",
       "\n",
       "[5 rows x 150 columns]"
      ]
     },
     "execution_count": 8,
     "metadata": {},
     "output_type": "execute_result"
    }
   ],
   "source": [
    "pp.head()"
   ]
  },
  {
   "cell_type": "code",
   "execution_count": 20,
   "id": "6e475169-6a0e-4c6d-88c1-3dc7fcc5066a",
   "metadata": {},
   "outputs": [
    {
     "data": {
      "text/plain": [
       "(732, 150)"
      ]
     },
     "execution_count": 20,
     "metadata": {},
     "output_type": "execute_result"
    }
   ],
   "source": [
    "pp.shape"
   ]
  },
  {
   "cell_type": "code",
   "execution_count": 9,
   "id": "7eab64a5-173f-4a35-b0cd-d532b5950a50",
   "metadata": {},
   "outputs": [],
   "source": [
    "pp.columns = pp.columns.str.strip()"
   ]
  },
  {
   "cell_type": "code",
   "execution_count": 10,
   "id": "7cf0301c-9aaa-4102-bfaf-c4cade1273b5",
   "metadata": {},
   "outputs": [
    {
     "data": {
      "text/plain": [
       "Region                        object\n",
       "District                      object\n",
       "Subcounty                     object\n",
       "Service outlet                object\n",
       "Tracker HF ID                 object\n",
       "                              ...   \n",
       "pct_pp_prev_pop_subcounty    float64\n",
       "pct_pp_pos_pop_subcounty     float64\n",
       "usaid                          int64\n",
       "cdc                            int64\n",
       "dod                            int64\n",
       "Length: 150, dtype: object"
      ]
     },
     "execution_count": 10,
     "metadata": {},
     "output_type": "execute_result"
    }
   ],
   "source": [
    "pp.dtypes"
   ]
  },
  {
   "cell_type": "code",
   "execution_count": 26,
   "id": "96bb7d60-0c62-4304-a9d3-1c7b2b37be54",
   "metadata": {},
   "outputs": [],
   "source": [
    "pp_pop = pd.merge(pp, pop, on=['District', 'Subcounty'], how='left')"
   ]
  },
  {
   "cell_type": "code",
   "execution_count": 27,
   "id": "a3c017ed-ccf0-4e40-82f5-4c04ef750bd6",
   "metadata": {
    "scrolled": true
   },
   "outputs": [
    {
     "data": {
      "text/html": [
       "<div>\n",
       "<style scoped>\n",
       "    .dataframe tbody tr th:only-of-type {\n",
       "        vertical-align: middle;\n",
       "    }\n",
       "\n",
       "    .dataframe tbody tr th {\n",
       "        vertical-align: top;\n",
       "    }\n",
       "\n",
       "    .dataframe thead th {\n",
       "        text-align: right;\n",
       "    }\n",
       "</style>\n",
       "<table border=\"1\" class=\"dataframe\">\n",
       "  <thead>\n",
       "    <tr style=\"text-align: right;\">\n",
       "      <th></th>\n",
       "      <th>Region</th>\n",
       "      <th>District</th>\n",
       "      <th>Subcounty</th>\n",
       "      <th>Service outlet</th>\n",
       "      <th>Tracker HF ID</th>\n",
       "      <th>KP Tracker /HIBRID Mechanism name</th>\n",
       "      <th>DATIM ID</th>\n",
       "      <th>DATIM Subcounty ID</th>\n",
       "      <th>DATIM Subcounty Name</th>\n",
       "      <th>DHIS2 ID</th>\n",
       "      <th>...</th>\n",
       "      <th>summary.13_nan</th>\n",
       "      <th>PP_PREV2</th>\n",
       "      <th>subcounty_PP_PREV_total</th>\n",
       "      <th>pp_known_pos_subcounty</th>\n",
       "      <th>pct_pp_prev_pop_subcounty</th>\n",
       "      <th>pct_pp_pos_pop_subcounty</th>\n",
       "      <th>usaid</th>\n",
       "      <th>cdc</th>\n",
       "      <th>dod</th>\n",
       "      <th>subcounty_pop_adjusted</th>\n",
       "    </tr>\n",
       "  </thead>\n",
       "  <tbody>\n",
       "    <tr>\n",
       "      <th>0</th>\n",
       "      <td>Lango</td>\n",
       "      <td>Oyam District</td>\n",
       "      <td>Kamdini Subcounty</td>\n",
       "      <td>Aber Hospital</td>\n",
       "      <td>cDGKAJzfkpf</td>\n",
       "      <td>0</td>\n",
       "      <td>whVRRz5wfqJ</td>\n",
       "      <td>oQatC41fkR8</td>\n",
       "      <td>Kamdini Subcounty</td>\n",
       "      <td>cDGKAJzfkpf</td>\n",
       "      <td>...</td>\n",
       "      <td>True</td>\n",
       "      <td>94</td>\n",
       "      <td>94</td>\n",
       "      <td>0</td>\n",
       "      <td>1.000000</td>\n",
       "      <td>NaN</td>\n",
       "      <td>1</td>\n",
       "      <td>0</td>\n",
       "      <td>0</td>\n",
       "      <td>42019.88</td>\n",
       "    </tr>\n",
       "    <tr>\n",
       "      <th>1</th>\n",
       "      <td>Lango</td>\n",
       "      <td>Kole District</td>\n",
       "      <td>Aboke Subcounty</td>\n",
       "      <td>Aboke HC IV</td>\n",
       "      <td>UIhutvdIhqU</td>\n",
       "      <td>0</td>\n",
       "      <td>qdfauyzsicr</td>\n",
       "      <td>n1m5X7BigR9</td>\n",
       "      <td>Aboke Subcounty</td>\n",
       "      <td>UIhutvdIhqU</td>\n",
       "      <td>...</td>\n",
       "      <td>False</td>\n",
       "      <td>1254</td>\n",
       "      <td>1254</td>\n",
       "      <td>15</td>\n",
       "      <td>1.000000</td>\n",
       "      <td>1.0</td>\n",
       "      <td>1</td>\n",
       "      <td>0</td>\n",
       "      <td>0</td>\n",
       "      <td>48009.33</td>\n",
       "    </tr>\n",
       "    <tr>\n",
       "      <th>2</th>\n",
       "      <td>Lango</td>\n",
       "      <td>Kwania District</td>\n",
       "      <td>Abongomola Subcounty</td>\n",
       "      <td>Abongomola HC III</td>\n",
       "      <td>xzRSc5XHzys</td>\n",
       "      <td>0</td>\n",
       "      <td>rDCHA2jHz39</td>\n",
       "      <td>Q9sUqH7HoYP</td>\n",
       "      <td>Abongomola Subcounty</td>\n",
       "      <td>xzRSc5XHzys</td>\n",
       "      <td>...</td>\n",
       "      <td>False</td>\n",
       "      <td>1</td>\n",
       "      <td>1</td>\n",
       "      <td>0</td>\n",
       "      <td>1.000000</td>\n",
       "      <td>NaN</td>\n",
       "      <td>1</td>\n",
       "      <td>0</td>\n",
       "      <td>0</td>\n",
       "      <td>35214.67</td>\n",
       "    </tr>\n",
       "    <tr>\n",
       "      <th>3</th>\n",
       "      <td>Acholi</td>\n",
       "      <td>Agago District</td>\n",
       "      <td>Adilang Subcounty</td>\n",
       "      <td>Adilang HC III</td>\n",
       "      <td>FvewOonC8lS</td>\n",
       "      <td>0</td>\n",
       "      <td>ZeRcMv22glU</td>\n",
       "      <td>ClwHXeeXWEt</td>\n",
       "      <td>Adilang Subcounty</td>\n",
       "      <td>FvewOonC8lS</td>\n",
       "      <td>...</td>\n",
       "      <td>True</td>\n",
       "      <td>458</td>\n",
       "      <td>458</td>\n",
       "      <td>20</td>\n",
       "      <td>1.000000</td>\n",
       "      <td>1.0</td>\n",
       "      <td>1</td>\n",
       "      <td>0</td>\n",
       "      <td>0</td>\n",
       "      <td>20882.22</td>\n",
       "    </tr>\n",
       "    <tr>\n",
       "      <th>4</th>\n",
       "      <td>West Nile</td>\n",
       "      <td>Adjumani District</td>\n",
       "      <td>Adjumani Town Council</td>\n",
       "      <td>Adjumani Hospital</td>\n",
       "      <td>hvtKTUxWNrt</td>\n",
       "      <td>0</td>\n",
       "      <td>DXy9kBbZcEQ</td>\n",
       "      <td>jM4Qy260tRg</td>\n",
       "      <td>Adjumani Town Council</td>\n",
       "      <td>hvtKTUxWNrt</td>\n",
       "      <td>...</td>\n",
       "      <td>False</td>\n",
       "      <td>767</td>\n",
       "      <td>885</td>\n",
       "      <td>0</td>\n",
       "      <td>0.866667</td>\n",
       "      <td>NaN</td>\n",
       "      <td>0</td>\n",
       "      <td>1</td>\n",
       "      <td>0</td>\n",
       "      <td>36495.99</td>\n",
       "    </tr>\n",
       "    <tr>\n",
       "      <th>...</th>\n",
       "      <td>...</td>\n",
       "      <td>...</td>\n",
       "      <td>...</td>\n",
       "      <td>...</td>\n",
       "      <td>...</td>\n",
       "      <td>...</td>\n",
       "      <td>...</td>\n",
       "      <td>...</td>\n",
       "      <td>...</td>\n",
       "      <td>...</td>\n",
       "      <td>...</td>\n",
       "      <td>...</td>\n",
       "      <td>...</td>\n",
       "      <td>...</td>\n",
       "      <td>...</td>\n",
       "      <td>...</td>\n",
       "      <td>...</td>\n",
       "      <td>...</td>\n",
       "      <td>...</td>\n",
       "      <td>...</td>\n",
       "      <td>...</td>\n",
       "    </tr>\n",
       "    <tr>\n",
       "      <th>727</th>\n",
       "      <td>Tooro</td>\n",
       "      <td>Bunyangabu District</td>\n",
       "      <td>Kibiito Town Council</td>\n",
       "      <td>Yerya HC III</td>\n",
       "      <td>z3ldDiQ4JHT</td>\n",
       "      <td>0</td>\n",
       "      <td>pmC5yuT7tnn</td>\n",
       "      <td>CRQdKabSo7t</td>\n",
       "      <td>Kibiito Town Council</td>\n",
       "      <td>z3ldDiQ4JHT</td>\n",
       "      <td>...</td>\n",
       "      <td>True</td>\n",
       "      <td>43</td>\n",
       "      <td>639</td>\n",
       "      <td>42</td>\n",
       "      <td>0.067293</td>\n",
       "      <td>0.0</td>\n",
       "      <td>0</td>\n",
       "      <td>1</td>\n",
       "      <td>0</td>\n",
       "      <td>13171.64</td>\n",
       "    </tr>\n",
       "    <tr>\n",
       "      <th>728</th>\n",
       "      <td>West Nile</td>\n",
       "      <td>Yumbe District</td>\n",
       "      <td>Yumbe Town Council</td>\n",
       "      <td>Yumbe HC IV</td>\n",
       "      <td>Gs4nX12jUeA</td>\n",
       "      <td>0</td>\n",
       "      <td>dEj9vXe7Hw5</td>\n",
       "      <td>xoklyiDyme1</td>\n",
       "      <td>Yumbe Town Council</td>\n",
       "      <td>Gs4nX12jUeA</td>\n",
       "      <td>...</td>\n",
       "      <td>False</td>\n",
       "      <td>525</td>\n",
       "      <td>525</td>\n",
       "      <td>2</td>\n",
       "      <td>1.000000</td>\n",
       "      <td>1.0</td>\n",
       "      <td>0</td>\n",
       "      <td>1</td>\n",
       "      <td>0</td>\n",
       "      <td>35850.18</td>\n",
       "    </tr>\n",
       "    <tr>\n",
       "      <th>729</th>\n",
       "      <td>South Central</td>\n",
       "      <td>Wakiso District</td>\n",
       "      <td>Kira Division</td>\n",
       "      <td>Zia Angelina HC II</td>\n",
       "      <td>ODl6muHUdeG</td>\n",
       "      <td>0</td>\n",
       "      <td>DKFibZBZgmM</td>\n",
       "      <td>D6MCjuwUa0h</td>\n",
       "      <td>Kira Division</td>\n",
       "      <td>ODl6muHUdeG</td>\n",
       "      <td>...</td>\n",
       "      <td>True</td>\n",
       "      <td>244</td>\n",
       "      <td>1507</td>\n",
       "      <td>295</td>\n",
       "      <td>0.161911</td>\n",
       "      <td>0.0</td>\n",
       "      <td>0</td>\n",
       "      <td>1</td>\n",
       "      <td>0</td>\n",
       "      <td>124627.94</td>\n",
       "    </tr>\n",
       "    <tr>\n",
       "      <th>730</th>\n",
       "      <td>North Central</td>\n",
       "      <td>Luwero District</td>\n",
       "      <td>Zirobwe Subcounty</td>\n",
       "      <td>Zirobwe HC III</td>\n",
       "      <td>ec6ZVy4whk5</td>\n",
       "      <td>0</td>\n",
       "      <td>bAXMDMoyU0m</td>\n",
       "      <td>OMdw5eGHUgf</td>\n",
       "      <td>Zirobwe Subcounty</td>\n",
       "      <td>ec6ZVy4whk5</td>\n",
       "      <td>...</td>\n",
       "      <td>True</td>\n",
       "      <td>143</td>\n",
       "      <td>143</td>\n",
       "      <td>14</td>\n",
       "      <td>1.000000</td>\n",
       "      <td>1.0</td>\n",
       "      <td>0</td>\n",
       "      <td>0</td>\n",
       "      <td>1</td>\n",
       "      <td>92683.52</td>\n",
       "    </tr>\n",
       "    <tr>\n",
       "      <th>731</th>\n",
       "      <td>West Nile</td>\n",
       "      <td>Zombo District</td>\n",
       "      <td>Zombo Town Council</td>\n",
       "      <td>Zumbo HC III</td>\n",
       "      <td>tuYjF238GTf</td>\n",
       "      <td>0</td>\n",
       "      <td>rVHhMgI2Tju</td>\n",
       "      <td>K3tJsUzvEZt</td>\n",
       "      <td>Zombo Town Council</td>\n",
       "      <td>tuYjF238GTf</td>\n",
       "      <td>...</td>\n",
       "      <td>True</td>\n",
       "      <td>32</td>\n",
       "      <td>32</td>\n",
       "      <td>0</td>\n",
       "      <td>1.000000</td>\n",
       "      <td>NaN</td>\n",
       "      <td>0</td>\n",
       "      <td>1</td>\n",
       "      <td>0</td>\n",
       "      <td>12453.73</td>\n",
       "    </tr>\n",
       "  </tbody>\n",
       "</table>\n",
       "<p>732 rows × 151 columns</p>\n",
       "</div>"
      ],
      "text/plain": [
       "            Region             District              Subcounty  \\\n",
       "0            Lango        Oyam District      Kamdini Subcounty   \n",
       "1            Lango        Kole District        Aboke Subcounty   \n",
       "2            Lango      Kwania District   Abongomola Subcounty   \n",
       "3           Acholi       Agago District      Adilang Subcounty   \n",
       "4        West Nile    Adjumani District  Adjumani Town Council   \n",
       "..             ...                  ...                    ...   \n",
       "727          Tooro  Bunyangabu District   Kibiito Town Council   \n",
       "728      West Nile       Yumbe District     Yumbe Town Council   \n",
       "729  South Central      Wakiso District          Kira Division   \n",
       "730  North Central      Luwero District      Zirobwe Subcounty   \n",
       "731      West Nile       Zombo District     Zombo Town Council   \n",
       "\n",
       "         Service outlet Tracker HF ID  KP Tracker /HIBRID Mechanism name  \\\n",
       "0         Aber Hospital   cDGKAJzfkpf                                  0   \n",
       "1           Aboke HC IV   UIhutvdIhqU                                  0   \n",
       "2     Abongomola HC III   xzRSc5XHzys                                  0   \n",
       "3        Adilang HC III   FvewOonC8lS                                  0   \n",
       "4     Adjumani Hospital   hvtKTUxWNrt                                  0   \n",
       "..                  ...           ...                                ...   \n",
       "727        Yerya HC III   z3ldDiQ4JHT                                  0   \n",
       "728         Yumbe HC IV   Gs4nX12jUeA                                  0   \n",
       "729  Zia Angelina HC II   ODl6muHUdeG                                  0   \n",
       "730      Zirobwe HC III   ec6ZVy4whk5                                  0   \n",
       "731        Zumbo HC III   tuYjF238GTf                                  0   \n",
       "\n",
       "        DATIM ID DATIM Subcounty ID   DATIM Subcounty Name     DHIS2 ID  ...  \\\n",
       "0    whVRRz5wfqJ        oQatC41fkR8      Kamdini Subcounty  cDGKAJzfkpf  ...   \n",
       "1    qdfauyzsicr        n1m5X7BigR9        Aboke Subcounty  UIhutvdIhqU  ...   \n",
       "2    rDCHA2jHz39        Q9sUqH7HoYP   Abongomola Subcounty  xzRSc5XHzys  ...   \n",
       "3    ZeRcMv22glU        ClwHXeeXWEt      Adilang Subcounty  FvewOonC8lS  ...   \n",
       "4    DXy9kBbZcEQ        jM4Qy260tRg  Adjumani Town Council  hvtKTUxWNrt  ...   \n",
       "..           ...                ...                    ...          ...  ...   \n",
       "727  pmC5yuT7tnn        CRQdKabSo7t   Kibiito Town Council  z3ldDiQ4JHT  ...   \n",
       "728  dEj9vXe7Hw5        xoklyiDyme1     Yumbe Town Council  Gs4nX12jUeA  ...   \n",
       "729  DKFibZBZgmM        D6MCjuwUa0h          Kira Division  ODl6muHUdeG  ...   \n",
       "730  bAXMDMoyU0m        OMdw5eGHUgf      Zirobwe Subcounty  ec6ZVy4whk5  ...   \n",
       "731  rVHhMgI2Tju        K3tJsUzvEZt     Zombo Town Council  tuYjF238GTf  ...   \n",
       "\n",
       "    summary.13_nan PP_PREV2 subcounty_PP_PREV_total pp_known_pos_subcounty  \\\n",
       "0             True       94                      94                      0   \n",
       "1            False     1254                    1254                     15   \n",
       "2            False        1                       1                      0   \n",
       "3             True      458                     458                     20   \n",
       "4            False      767                     885                      0   \n",
       "..             ...      ...                     ...                    ...   \n",
       "727           True       43                     639                     42   \n",
       "728          False      525                     525                      2   \n",
       "729           True      244                    1507                    295   \n",
       "730           True      143                     143                     14   \n",
       "731           True       32                      32                      0   \n",
       "\n",
       "     pct_pp_prev_pop_subcounty pct_pp_pos_pop_subcounty usaid cdc  dod  \\\n",
       "0                     1.000000                      NaN     1   0    0   \n",
       "1                     1.000000                      1.0     1   0    0   \n",
       "2                     1.000000                      NaN     1   0    0   \n",
       "3                     1.000000                      1.0     1   0    0   \n",
       "4                     0.866667                      NaN     0   1    0   \n",
       "..                         ...                      ...   ...  ..  ...   \n",
       "727                   0.067293                      0.0     0   1    0   \n",
       "728                   1.000000                      1.0     0   1    0   \n",
       "729                   0.161911                      0.0     0   1    0   \n",
       "730                   1.000000                      1.0     0   0    1   \n",
       "731                   1.000000                      NaN     0   1    0   \n",
       "\n",
       "     subcounty_pop_adjusted  \n",
       "0                  42019.88  \n",
       "1                  48009.33  \n",
       "2                  35214.67  \n",
       "3                  20882.22  \n",
       "4                  36495.99  \n",
       "..                      ...  \n",
       "727                13171.64  \n",
       "728                35850.18  \n",
       "729               124627.94  \n",
       "730                92683.52  \n",
       "731                12453.73  \n",
       "\n",
       "[732 rows x 151 columns]"
      ]
     },
     "execution_count": 27,
     "metadata": {},
     "output_type": "execute_result"
    }
   ],
   "source": [
    "pp_pop"
   ]
  },
  {
   "cell_type": "code",
   "execution_count": 13,
   "id": "49b76dac-9079-4cb5-8ee4-2ef60a6153d8",
   "metadata": {},
   "outputs": [],
   "source": [
    "#print(pp.columns.tolist())"
   ]
  },
  {
   "cell_type": "code",
   "execution_count": 29,
   "id": "db9d7963-fd28-4a9e-bb63-b27568c219e3",
   "metadata": {},
   "outputs": [
    {
     "data": {
      "text/plain": [
       "261"
      ]
     },
     "execution_count": 29,
     "metadata": {},
     "output_type": "execute_result"
    }
   ],
   "source": [
    "pp_pop.groupby('Subcounty')['subcounty_pop_adjusted'].apply(lambda x: x.isna().sum()).sum()"
   ]
  },
  {
   "cell_type": "code",
   "execution_count": 30,
   "id": "279c7554-cf2e-43a5-b56d-cf9160faaf96",
   "metadata": {},
   "outputs": [
    {
     "data": {
      "text/plain": [
       "471"
      ]
     },
     "execution_count": 30,
     "metadata": {},
     "output_type": "execute_result"
    }
   ],
   "source": [
    "pp_pop.groupby('Subcounty')['subcounty_pop_adjusted'].apply(lambda x: x.notna().sum()).sum()"
   ]
  },
  {
   "cell_type": "code",
   "execution_count": 28,
   "id": "82a2f11d-112d-4b5b-9267-be46945afaf8",
   "metadata": {},
   "outputs": [
    {
     "data": {
      "text/plain": [
       "(732, 151)"
      ]
     },
     "execution_count": 28,
     "metadata": {},
     "output_type": "execute_result"
    }
   ],
   "source": [
    "pp_pop.shape"
   ]
  },
  {
   "cell_type": "code",
   "execution_count": 31,
   "id": "faa96f67-e1ac-4708-942b-40a32ff9afe7",
   "metadata": {},
   "outputs": [
    {
     "data": {
      "text/plain": [
       "Subcounty\n",
       "Nakawa Division         9\n",
       "Makindye Division       8\n",
       "Kakoba Division         7\n",
       "Central Division        7\n",
       "Rubaga Division         6\n",
       "                       ..\n",
       "Kasanje Subcounty       1\n",
       "Lwabenge Subcounty      1\n",
       "Kasagama Subcounty      1\n",
       "Kasaali Town Council    1\n",
       "Zombo Town Council      1\n",
       "Name: count, Length: 520, dtype: int64"
      ]
     },
     "execution_count": 31,
     "metadata": {},
     "output_type": "execute_result"
    }
   ],
   "source": [
    "pp_pop['Subcounty'].value_counts()"
   ]
  },
  {
   "cell_type": "code",
   "execution_count": 32,
   "id": "6667b2e8-2043-4568-8898-996591fa082f",
   "metadata": {},
   "outputs": [
    {
     "data": {
      "text/plain": [
       "(732, 151)"
      ]
     },
     "execution_count": 32,
     "metadata": {},
     "output_type": "execute_result"
    }
   ],
   "source": [
    "pp_pop.shape"
   ]
  },
  {
   "cell_type": "code",
   "execution_count": 33,
   "id": "7a4ed2d2-072b-48d8-bb27-e2dcc5a8b63c",
   "metadata": {},
   "outputs": [],
   "source": [
    "pp_pop.to_csv('uganda_pp_with_pop.csv', index=False)"
   ]
  },
  {
   "cell_type": "code",
   "execution_count": null,
   "id": "9023cd51-a431-427e-960f-44aab0b55125",
   "metadata": {},
   "outputs": [],
   "source": []
  },
  {
   "cell_type": "code",
   "execution_count": null,
   "id": "b5f54b5d-9490-456b-b05f-fc782588f949",
   "metadata": {},
   "outputs": [],
   "source": []
  }
 ],
 "metadata": {
  "kernelspec": {
   "display_name": "Python 3 (ipykernel)",
   "language": "python",
   "name": "python3"
  },
  "language_info": {
   "codemirror_mode": {
    "name": "ipython",
    "version": 3
   },
   "file_extension": ".py",
   "mimetype": "text/x-python",
   "name": "python",
   "nbconvert_exporter": "python",
   "pygments_lexer": "ipython3",
   "version": "3.12.7"
  }
 },
 "nbformat": 4,
 "nbformat_minor": 5
}
